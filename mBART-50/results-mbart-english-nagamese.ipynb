{
 "cells": [
  {
   "cell_type": "code",
   "execution_count": 1,
   "id": "5493486e",
   "metadata": {
    "_cell_guid": "b1076dfc-b9ad-4769-8c92-a6c4dae69d19",
    "_uuid": "8f2839f25d086af736a60e9eeb907d3b93b6e0e5",
    "execution": {
     "iopub.execute_input": "2025-03-06T05:39:01.035439Z",
     "iopub.status.busy": "2025-03-06T05:39:01.035129Z",
     "iopub.status.idle": "2025-03-06T05:39:27.870089Z",
     "shell.execute_reply": "2025-03-06T05:39:27.869329Z"
    },
    "papermill": {
     "duration": 26.839943,
     "end_time": "2025-03-06T05:39:27.871839",
     "exception": false,
     "start_time": "2025-03-06T05:39:01.031896",
     "status": "completed"
    },
    "tags": []
   },
   "outputs": [
    {
     "name": "stdout",
     "output_type": "stream",
     "text": [
      "Requirement already satisfied: transformers in /usr/local/lib/python3.10/dist-packages (4.47.0)\r\n",
      "Requirement already satisfied: sentencepiece in /usr/local/lib/python3.10/dist-packages (0.2.0)\r\n",
      "Requirement already satisfied: torch in /usr/local/lib/python3.10/dist-packages (2.5.1+cu121)\r\n",
      "Requirement already satisfied: filelock in /usr/local/lib/python3.10/dist-packages (from transformers) (3.17.0)\r\n",
      "Requirement already satisfied: huggingface-hub<1.0,>=0.24.0 in /usr/local/lib/python3.10/dist-packages (from transformers) (0.29.0)\r\n",
      "Requirement already satisfied: numpy>=1.17 in /usr/local/lib/python3.10/dist-packages (from transformers) (1.26.4)\r\n",
      "Requirement already satisfied: packaging>=20.0 in /usr/local/lib/python3.10/dist-packages (from transformers) (24.2)\r\n",
      "Requirement already satisfied: pyyaml>=5.1 in /usr/local/lib/python3.10/dist-packages (from transformers) (6.0.2)\r\n",
      "Requirement already satisfied: regex!=2019.12.17 in /usr/local/lib/python3.10/dist-packages (from transformers) (2024.11.6)\r\n",
      "Requirement already satisfied: requests in /usr/local/lib/python3.10/dist-packages (from transformers) (2.32.3)\r\n",
      "Requirement already satisfied: tokenizers<0.22,>=0.21 in /usr/local/lib/python3.10/dist-packages (from transformers) (0.21.0)\r\n",
      "Requirement already satisfied: safetensors>=0.4.1 in /usr/local/lib/python3.10/dist-packages (from transformers) (0.4.5)\r\n",
      "Requirement already satisfied: tqdm>=4.27 in /usr/local/lib/python3.10/dist-packages (from transformers) (4.67.1)\r\n",
      "Requirement already satisfied: typing-extensions>=4.8.0 in /usr/local/lib/python3.10/dist-packages (from torch) (4.12.2)\r\n",
      "Requirement already satisfied: networkx in /usr/local/lib/python3.10/dist-packages (from torch) (3.4.2)\r\n",
      "Requirement already satisfied: jinja2 in /usr/local/lib/python3.10/dist-packages (from torch) (3.1.4)\r\n",
      "Requirement already satisfied: fsspec in /usr/local/lib/python3.10/dist-packages (from torch) (2024.12.0)\r\n",
      "Requirement already satisfied: sympy==1.13.1 in /usr/local/lib/python3.10/dist-packages (from torch) (1.13.1)\r\n",
      "Requirement already satisfied: mpmath<1.4,>=1.1.0 in /usr/local/lib/python3.10/dist-packages (from sympy==1.13.1->torch) (1.3.0)\r\n",
      "Requirement already satisfied: mkl_fft in /usr/local/lib/python3.10/dist-packages (from numpy>=1.17->transformers) (1.3.8)\r\n",
      "Requirement already satisfied: mkl_random in /usr/local/lib/python3.10/dist-packages (from numpy>=1.17->transformers) (1.2.4)\r\n",
      "Requirement already satisfied: mkl_umath in /usr/local/lib/python3.10/dist-packages (from numpy>=1.17->transformers) (0.1.1)\r\n",
      "Requirement already satisfied: mkl in /usr/local/lib/python3.10/dist-packages (from numpy>=1.17->transformers) (2025.0.1)\r\n",
      "Requirement already satisfied: tbb4py in /usr/local/lib/python3.10/dist-packages (from numpy>=1.17->transformers) (2022.0.0)\r\n",
      "Requirement already satisfied: mkl-service in /usr/local/lib/python3.10/dist-packages (from numpy>=1.17->transformers) (2.4.1)\r\n",
      "Requirement already satisfied: MarkupSafe>=2.0 in /usr/local/lib/python3.10/dist-packages (from jinja2->torch) (3.0.2)\r\n",
      "Requirement already satisfied: charset-normalizer<4,>=2 in /usr/local/lib/python3.10/dist-packages (from requests->transformers) (3.4.1)\r\n",
      "Requirement already satisfied: idna<4,>=2.5 in /usr/local/lib/python3.10/dist-packages (from requests->transformers) (3.10)\r\n",
      "Requirement already satisfied: urllib3<3,>=1.21.1 in /usr/local/lib/python3.10/dist-packages (from requests->transformers) (2.3.0)\r\n",
      "Requirement already satisfied: certifi>=2017.4.17 in /usr/local/lib/python3.10/dist-packages (from requests->transformers) (2025.1.31)\r\n",
      "Requirement already satisfied: intel-openmp>=2024 in /usr/local/lib/python3.10/dist-packages (from mkl->numpy>=1.17->transformers) (2024.2.0)\r\n",
      "Requirement already satisfied: tbb==2022.* in /usr/local/lib/python3.10/dist-packages (from mkl->numpy>=1.17->transformers) (2022.0.0)\r\n",
      "Requirement already satisfied: tcmlib==1.* in /usr/local/lib/python3.10/dist-packages (from tbb==2022.*->mkl->numpy>=1.17->transformers) (1.2.0)\r\n",
      "Requirement already satisfied: intel-cmplr-lib-rt in /usr/local/lib/python3.10/dist-packages (from mkl_umath->numpy>=1.17->transformers) (2024.2.0)\r\n",
      "Requirement already satisfied: intel-cmplr-lib-ur==2024.2.0 in /usr/local/lib/python3.10/dist-packages (from intel-openmp>=2024->mkl->numpy>=1.17->transformers) (2024.2.0)\r\n"
     ]
    }
   ],
   "source": [
    "!pip install transformers sentencepiece torch\n",
    "\n",
    "from transformers import MBartForConditionalGeneration, MBart50TokenizerFast\n",
    "import torch"
   ]
  },
  {
   "cell_type": "code",
   "execution_count": 2,
   "id": "d46121fc",
   "metadata": {
    "execution": {
     "iopub.execute_input": "2025-03-06T05:39:27.877338Z",
     "iopub.status.busy": "2025-03-06T05:39:27.876881Z",
     "iopub.status.idle": "2025-03-06T05:39:52.014992Z",
     "shell.execute_reply": "2025-03-06T05:39:52.013897Z"
    },
    "papermill": {
     "duration": 24.142073,
     "end_time": "2025-03-06T05:39:52.016368",
     "exception": false,
     "start_time": "2025-03-06T05:39:27.874295",
     "status": "completed"
    },
    "tags": []
   },
   "outputs": [
    {
     "name": "stdout",
     "output_type": "stream",
     "text": [
      "Model and Tokenizer Loaded Successfully!\n"
     ]
    }
   ],
   "source": [
    "model_path = \"/kaggle/input/english-nagamese-mbart-50-model/results/checkpoint-800\"\n",
    "model = MBartForConditionalGeneration.from_pretrained(model_path)\n",
    "tokenizer = MBart50TokenizerFast.from_pretrained(model_path)\n",
    "\n",
    "device = torch.device(\"cuda\" if torch.cuda.is_available() else \"cpu\")\n",
    "model.to(device)\n",
    "\n",
    "print(\"Model and Tokenizer Loaded Successfully!\")"
   ]
  },
  {
   "cell_type": "code",
   "execution_count": 3,
   "id": "0f5cd651",
   "metadata": {
    "execution": {
     "iopub.execute_input": "2025-03-06T05:39:52.021543Z",
     "iopub.status.busy": "2025-03-06T05:39:52.021278Z",
     "iopub.status.idle": "2025-03-06T05:39:52.904933Z",
     "shell.execute_reply": "2025-03-06T05:39:52.904101Z"
    },
    "papermill": {
     "duration": 0.887585,
     "end_time": "2025-03-06T05:39:52.906297",
     "exception": false,
     "start_time": "2025-03-06T05:39:52.018712",
     "status": "completed"
    },
    "tags": []
   },
   "outputs": [
    {
     "name": "stderr",
     "output_type": "stream",
     "text": [
      "The new embeddings will be initialized from a multivariate normal distribution that has old embeddings' mean and covariance. As described in this article: https://nlp.stanford.edu/~johnhew/vocab-expansion.html. To disable this, use `mean_resizing=False`\n"
     ]
    },
    {
     "data": {
      "text/plain": [
       "MBartScaledWordEmbedding(250055, 1024, padding_idx=1)"
      ]
     },
     "execution_count": 3,
     "metadata": {},
     "output_type": "execute_result"
    }
   ],
   "source": [
    "new_tokens = [\"nagm\"]\n",
    "tokenizer.add_special_tokens({\"additional_special_tokens\": new_tokens})\n",
    "\n",
    "model.resize_token_embeddings(len(tokenizer))"
   ]
  },
  {
   "cell_type": "code",
   "execution_count": 4,
   "id": "35ccf1d1",
   "metadata": {
    "execution": {
     "iopub.execute_input": "2025-03-06T05:39:52.911689Z",
     "iopub.status.busy": "2025-03-06T05:39:52.911412Z",
     "iopub.status.idle": "2025-03-06T05:39:52.915515Z",
     "shell.execute_reply": "2025-03-06T05:39:52.914923Z"
    },
    "papermill": {
     "duration": 0.008107,
     "end_time": "2025-03-06T05:39:52.916726",
     "exception": false,
     "start_time": "2025-03-06T05:39:52.908619",
     "status": "completed"
    },
    "tags": []
   },
   "outputs": [],
   "source": [
    "def translate_english_to_nagamese(text):\n",
    "    tokenizer.src_lang = \"en_XX\"  # Use the correct English token\n",
    "\n",
    "    inputs = tokenizer(text, return_tensors=\"pt\", padding=True, truncation=True)\n",
    "    inputs = {k: v.to(device) for k, v in inputs.items()}\n",
    "\n",
    "    nagm_token_id = tokenizer.convert_tokens_to_ids(\"nagm\")\n",
    "\n",
    "    if nagm_token_id is None:\n",
    "        raise ValueError(\"Error: 'nagm' token not found in tokenizer. Check if it was added properly.\")\n",
    "\n",
    "    output_tokens = model.generate(**inputs, forced_bos_token_id=nagm_token_id)\n",
    "\n",
    "    return tokenizer.batch_decode(output_tokens, skip_special_tokens=True)[0]\n"
   ]
  },
  {
   "cell_type": "code",
   "execution_count": 5,
   "id": "a216be67",
   "metadata": {
    "execution": {
     "iopub.execute_input": "2025-03-06T05:39:52.921415Z",
     "iopub.status.busy": "2025-03-06T05:39:52.921217Z",
     "iopub.status.idle": "2025-03-06T05:39:55.060840Z",
     "shell.execute_reply": "2025-03-06T05:39:55.059915Z"
    },
    "papermill": {
     "duration": 2.143598,
     "end_time": "2025-03-06T05:39:55.062318",
     "exception": false,
     "start_time": "2025-03-06T05:39:52.918720",
     "status": "completed"
    },
    "tags": []
   },
   "outputs": [
    {
     "name": "stdout",
     "output_type": "stream",
     "text": [
      "English: For God so loved the world that He gave His only Son, that whoever believes in Him should not perish but have eternal life.\n",
      "Nagamese: Kilemane Isor itu prithibi ke morom korise, Tai laga ekjon morom thaka Chokra ke, jun Tai ke biswas koribo, khotom nahobo, kintu anonto jibon pabo.\n",
      "\n",
      "English: I am going to the market.\n",
      "Nagamese: Moi bemarkhan te jai ase.\n",
      "\n",
      "English: Can you help me with this?\n",
      "Nagamese: Aru itu ami ke kiba modot koribo?\n",
      "\n",
      "English: The roads are difficult to travel during the rainy season.\n",
      "Nagamese: Itu homoi te rasta khan bisi digdar hoise.\n",
      "\n",
      "English: Do to others as you would have them do to you.\n",
      "Nagamese: Itu nisena dusra khan ke bi eneka he koribi.\n",
      "\n"
     ]
    }
   ],
   "source": [
    "english_sentences = [\n",
    "    \"For God so loved the world that He gave His only Son, that whoever believes in Him should not perish but have eternal life.\",\n",
    "    \"I am going to the market.\",\n",
    "    \"Can you help me with this?\",\n",
    "    \"The roads are difficult to travel during the rainy season.\",\n",
    "    \"Do to others as you would have them do to you.\"\n",
    "]\n",
    "\n",
    "translations = [translate_english_to_nagamese(sentence) for sentence in english_sentences]\n",
    "\n",
    "for eng, nag in zip(english_sentences, translations):\n",
    "    print(f\"English: {eng}\\nNagamese: {nag}\\n\")"
   ]
  }
 ],
 "metadata": {
  "kaggle": {
   "accelerator": "gpu",
   "dataSources": [
    {
     "datasetId": 6801134,
     "sourceId": 10936729,
     "sourceType": "datasetVersion"
    }
   ],
   "dockerImageVersionId": 30919,
   "isGpuEnabled": true,
   "isInternetEnabled": true,
   "language": "python",
   "sourceType": "notebook"
  },
  "kernelspec": {
   "display_name": "Python 3",
   "language": "python",
   "name": "python3"
  },
  "language_info": {
   "codemirror_mode": {
    "name": "ipython",
    "version": 3
   },
   "file_extension": ".py",
   "mimetype": "text/x-python",
   "name": "python",
   "nbconvert_exporter": "python",
   "pygments_lexer": "ipython3",
   "version": "3.10.12"
  },
  "papermill": {
   "default_parameters": {},
   "duration": 59.819939,
   "end_time": "2025-03-06T05:39:58.252848",
   "environment_variables": {},
   "exception": null,
   "input_path": "__notebook__.ipynb",
   "output_path": "__notebook__.ipynb",
   "parameters": {},
   "start_time": "2025-03-06T05:38:58.432909",
   "version": "2.6.0"
  }
 },
 "nbformat": 4,
 "nbformat_minor": 5
}
