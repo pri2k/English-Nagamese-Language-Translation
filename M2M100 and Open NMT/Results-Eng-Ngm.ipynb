{
 "cells": [
  {
   "cell_type": "code",
   "execution_count": 1,
   "id": "34bca477",
   "metadata": {
    "_cell_guid": "b1076dfc-b9ad-4769-8c92-a6c4dae69d19",
    "_uuid": "8f2839f25d086af736a60e9eeb907d3b93b6e0e5",
    "execution": {
     "iopub.execute_input": "2025-03-06T05:00:07.484175Z",
     "iopub.status.busy": "2025-03-06T05:00:07.483918Z",
     "iopub.status.idle": "2025-03-06T05:00:11.769632Z",
     "shell.execute_reply": "2025-03-06T05:00:11.768485Z"
    },
    "papermill": {
     "duration": 4.290261,
     "end_time": "2025-03-06T05:00:11.771315",
     "exception": false,
     "start_time": "2025-03-06T05:00:07.481054",
     "status": "completed"
    },
    "tags": []
   },
   "outputs": [
    {
     "name": "stdout",
     "output_type": "stream",
     "text": [
      "Requirement already satisfied: transformers in /usr/local/lib/python3.10/dist-packages (4.47.0)\r\n",
      "Requirement already satisfied: sentencepiece in /usr/local/lib/python3.10/dist-packages (0.2.0)\r\n",
      "Requirement already satisfied: torch in /usr/local/lib/python3.10/dist-packages (2.5.1+cu121)\r\n",
      "Requirement already satisfied: filelock in /usr/local/lib/python3.10/dist-packages (from transformers) (3.17.0)\r\n",
      "Requirement already satisfied: huggingface-hub<1.0,>=0.24.0 in /usr/local/lib/python3.10/dist-packages (from transformers) (0.29.0)\r\n",
      "Requirement already satisfied: numpy>=1.17 in /usr/local/lib/python3.10/dist-packages (from transformers) (1.26.4)\r\n",
      "Requirement already satisfied: packaging>=20.0 in /usr/local/lib/python3.10/dist-packages (from transformers) (24.2)\r\n",
      "Requirement already satisfied: pyyaml>=5.1 in /usr/local/lib/python3.10/dist-packages (from transformers) (6.0.2)\r\n",
      "Requirement already satisfied: regex!=2019.12.17 in /usr/local/lib/python3.10/dist-packages (from transformers) (2024.11.6)\r\n",
      "Requirement already satisfied: requests in /usr/local/lib/python3.10/dist-packages (from transformers) (2.32.3)\r\n",
      "Requirement already satisfied: tokenizers<0.22,>=0.21 in /usr/local/lib/python3.10/dist-packages (from transformers) (0.21.0)\r\n",
      "Requirement already satisfied: safetensors>=0.4.1 in /usr/local/lib/python3.10/dist-packages (from transformers) (0.4.5)\r\n",
      "Requirement already satisfied: tqdm>=4.27 in /usr/local/lib/python3.10/dist-packages (from transformers) (4.67.1)\r\n",
      "Requirement already satisfied: typing-extensions>=4.8.0 in /usr/local/lib/python3.10/dist-packages (from torch) (4.12.2)\r\n",
      "Requirement already satisfied: networkx in /usr/local/lib/python3.10/dist-packages (from torch) (3.4.2)\r\n",
      "Requirement already satisfied: jinja2 in /usr/local/lib/python3.10/dist-packages (from torch) (3.1.4)\r\n",
      "Requirement already satisfied: fsspec in /usr/local/lib/python3.10/dist-packages (from torch) (2024.12.0)\r\n",
      "Requirement already satisfied: sympy==1.13.1 in /usr/local/lib/python3.10/dist-packages (from torch) (1.13.1)\r\n",
      "Requirement already satisfied: mpmath<1.4,>=1.1.0 in /usr/local/lib/python3.10/dist-packages (from sympy==1.13.1->torch) (1.3.0)\r\n",
      "Requirement already satisfied: mkl_fft in /usr/local/lib/python3.10/dist-packages (from numpy>=1.17->transformers) (1.3.8)\r\n",
      "Requirement already satisfied: mkl_random in /usr/local/lib/python3.10/dist-packages (from numpy>=1.17->transformers) (1.2.4)\r\n",
      "Requirement already satisfied: mkl_umath in /usr/local/lib/python3.10/dist-packages (from numpy>=1.17->transformers) (0.1.1)\r\n",
      "Requirement already satisfied: mkl in /usr/local/lib/python3.10/dist-packages (from numpy>=1.17->transformers) (2025.0.1)\r\n",
      "Requirement already satisfied: tbb4py in /usr/local/lib/python3.10/dist-packages (from numpy>=1.17->transformers) (2022.0.0)\r\n",
      "Requirement already satisfied: mkl-service in /usr/local/lib/python3.10/dist-packages (from numpy>=1.17->transformers) (2.4.1)\r\n",
      "Requirement already satisfied: MarkupSafe>=2.0 in /usr/local/lib/python3.10/dist-packages (from jinja2->torch) (3.0.2)\r\n",
      "Requirement already satisfied: charset-normalizer<4,>=2 in /usr/local/lib/python3.10/dist-packages (from requests->transformers) (3.4.1)\r\n",
      "Requirement already satisfied: idna<4,>=2.5 in /usr/local/lib/python3.10/dist-packages (from requests->transformers) (3.10)\r\n",
      "Requirement already satisfied: urllib3<3,>=1.21.1 in /usr/local/lib/python3.10/dist-packages (from requests->transformers) (2.3.0)\r\n",
      "Requirement already satisfied: certifi>=2017.4.17 in /usr/local/lib/python3.10/dist-packages (from requests->transformers) (2025.1.31)\r\n",
      "Requirement already satisfied: intel-openmp>=2024 in /usr/local/lib/python3.10/dist-packages (from mkl->numpy>=1.17->transformers) (2024.2.0)\r\n",
      "Requirement already satisfied: tbb==2022.* in /usr/local/lib/python3.10/dist-packages (from mkl->numpy>=1.17->transformers) (2022.0.0)\r\n",
      "Requirement already satisfied: tcmlib==1.* in /usr/local/lib/python3.10/dist-packages (from tbb==2022.*->mkl->numpy>=1.17->transformers) (1.2.0)\r\n",
      "Requirement already satisfied: intel-cmplr-lib-rt in /usr/local/lib/python3.10/dist-packages (from mkl_umath->numpy>=1.17->transformers) (2024.2.0)\r\n",
      "Requirement already satisfied: intel-cmplr-lib-ur==2024.2.0 in /usr/local/lib/python3.10/dist-packages (from intel-openmp>=2024->mkl->numpy>=1.17->transformers) (2024.2.0)\r\n",
      "Note: you may need to restart the kernel to use updated packages.\n"
     ]
    }
   ],
   "source": [
    "pip install transformers sentencepiece torch\n"
   ]
  },
  {
   "cell_type": "code",
   "execution_count": 2,
   "id": "b6dd1d2e",
   "metadata": {
    "execution": {
     "iopub.execute_input": "2025-03-06T05:00:11.776209Z",
     "iopub.status.busy": "2025-03-06T05:00:11.775975Z",
     "iopub.status.idle": "2025-03-06T05:00:55.244615Z",
     "shell.execute_reply": "2025-03-06T05:00:55.243721Z"
    },
    "papermill": {
     "duration": 43.473187,
     "end_time": "2025-03-06T05:00:55.246751",
     "exception": false,
     "start_time": "2025-03-06T05:00:11.773564",
     "status": "completed"
    },
    "tags": []
   },
   "outputs": [
    {
     "name": "stdout",
     "output_type": "stream",
     "text": [
      "Model and Tokenizer Loaded Successfully!\n"
     ]
    }
   ],
   "source": [
    "from transformers import M2M100ForConditionalGeneration, M2M100Tokenizer\n",
    "import torch\n",
    "\n",
    "# Path to the extracted model folder\n",
    "model_path = \"/kaggle/input/eng-ngm-m2m-100-model/m2m100-finetuned-english-nagamese-final\"  \n",
    "\n",
    "# Load tokenizer and model from the directory\n",
    "tokenizer = M2M100Tokenizer.from_pretrained(model_path)\n",
    "model = M2M100ForConditionalGeneration.from_pretrained(model_path)\n",
    "\n",
    "# Set device (GPU if available, else CPU)\n",
    "device = torch.device(\"cuda\" if torch.cuda.is_available() else \"cpu\")\n",
    "model.to(device)\n",
    "\n",
    "print(\"Model and Tokenizer Loaded Successfully!\")"
   ]
  },
  {
   "cell_type": "code",
   "execution_count": 3,
   "id": "0ba947b6",
   "metadata": {
    "execution": {
     "iopub.execute_input": "2025-03-06T05:00:55.251853Z",
     "iopub.status.busy": "2025-03-06T05:00:55.251271Z",
     "iopub.status.idle": "2025-03-06T05:00:55.910505Z",
     "shell.execute_reply": "2025-03-06T05:00:55.909633Z"
    },
    "papermill": {
     "duration": 0.663024,
     "end_time": "2025-03-06T05:00:55.911866",
     "exception": false,
     "start_time": "2025-03-06T05:00:55.248842",
     "status": "completed"
    },
    "tags": []
   },
   "outputs": [
    {
     "data": {
      "text/plain": [
       "1"
      ]
     },
     "execution_count": 3,
     "metadata": {},
     "output_type": "execute_result"
    }
   ],
   "source": [
    "new_tokens = [\"nagm\"] \n",
    "tokenizer.add_special_tokens({\"additional_special_tokens\": new_tokens})"
   ]
  },
  {
   "cell_type": "code",
   "execution_count": 4,
   "id": "9b32a303",
   "metadata": {
    "execution": {
     "iopub.execute_input": "2025-03-06T05:00:55.916995Z",
     "iopub.status.busy": "2025-03-06T05:00:55.916732Z",
     "iopub.status.idle": "2025-03-06T05:00:55.920891Z",
     "shell.execute_reply": "2025-03-06T05:00:55.920090Z"
    },
    "papermill": {
     "duration": 0.008229,
     "end_time": "2025-03-06T05:00:55.922295",
     "exception": false,
     "start_time": "2025-03-06T05:00:55.914066",
     "status": "completed"
    },
    "tags": []
   },
   "outputs": [],
   "source": [
    "def translate_english_to_nagamese(text):\n",
    "    tokenizer.src_lang = \"en\"\n",
    "    inputs = tokenizer(text, return_tensors=\"pt\", padding=True, truncation=True)\n",
    "    inputs = {k: v.to(device) for k, v in inputs.items()}\n",
    "\n",
    "    output_tokens = model.generate(**inputs, forced_bos_token_id=tokenizer.convert_tokens_to_ids(\"nagm\"))\n",
    "\n",
    "    return tokenizer.batch_decode(output_tokens, skip_special_tokens=True)[0]\n",
    "\n"
   ]
  },
  {
   "cell_type": "code",
   "execution_count": 5,
   "id": "c47e754f",
   "metadata": {
    "execution": {
     "iopub.execute_input": "2025-03-06T05:00:55.927010Z",
     "iopub.status.busy": "2025-03-06T05:00:55.926802Z",
     "iopub.status.idle": "2025-03-06T05:00:58.276066Z",
     "shell.execute_reply": "2025-03-06T05:00:58.275142Z"
    },
    "papermill": {
     "duration": 2.353178,
     "end_time": "2025-03-06T05:00:58.277522",
     "exception": false,
     "start_time": "2025-03-06T05:00:55.924344",
     "status": "completed"
    },
    "tags": []
   },
   "outputs": [
    {
     "name": "stdout",
     "output_type": "stream",
     "text": [
      "English: For God so loved the world that He gave His only Son, that whoever believes in Him should not perish but have eternal life.\n",
      "Nagamese: juntu prithibi Tai nijor laga ekjon bacha ke dise, itu Isor eneka morom korise, jun Tai ke biswas kore, tai harai najabo, kintu anonto jibon pabo.\n",
      "\n",
      "English: I am going to the market.\n",
      "Nagamese: piche te jaikena moi jai ase.\n",
      "\n",
      "English: Can you help me with this?\n",
      "Nagamese: , apnikhan itu pora ami ke modot koribole paribo naki?\n",
      "\n",
      "English: The roads are difficult to travel during the rainy season.\n",
      "Nagamese: te pani thaka homoi te rasta khan te jabole bisi digdar ase.\n",
      "\n",
      "English: Do to others as you would have them do to you.\n",
      "Nagamese: thaka nisena dusra khan ke koribi jineka taikhan pora apnikhan ke koribi.\n",
      "\n"
     ]
    }
   ],
   "source": [
    "english_sentences = [\n",
    "    \"For God so loved the world that He gave His only Son, that whoever believes in Him should not perish but have eternal life.\",\n",
    "    \"I am going to the market.\",\n",
    "    \"Can you help me with this?\",\n",
    "    \"The roads are difficult to travel during the rainy season.\",\n",
    "    \"Do to others as you would have them do to you.\"\n",
    "]\n",
    "\n",
    "translations = [translate_english_to_nagamese(sentence) for sentence in english_sentences]\n",
    "\n",
    "for eng, nag in zip(english_sentences, translations):\n",
    "    print(f\"English: {eng}\\nNagamese: {nag}\\n\")"
   ]
  }
 ],
 "metadata": {
  "kaggle": {
   "accelerator": "gpu",
   "dataSources": [
    {
     "datasetId": 6800937,
     "sourceId": 10936454,
     "sourceType": "datasetVersion"
    }
   ],
   "dockerImageVersionId": 30919,
   "isGpuEnabled": true,
   "isInternetEnabled": true,
   "language": "python",
   "sourceType": "notebook"
  },
  "kernelspec": {
   "display_name": "Python 3",
   "language": "python",
   "name": "python3"
  },
  "language_info": {
   "codemirror_mode": {
    "name": "ipython",
    "version": 3
   },
   "file_extension": ".py",
   "mimetype": "text/x-python",
   "name": "python",
   "nbconvert_exporter": "python",
   "pygments_lexer": "ipython3",
   "version": "3.10.12"
  },
  "papermill": {
   "default_parameters": {},
   "duration": 56.813101,
   "end_time": "2025-03-06T05:01:01.659890",
   "environment_variables": {},
   "exception": null,
   "input_path": "__notebook__.ipynb",
   "output_path": "__notebook__.ipynb",
   "parameters": {},
   "start_time": "2025-03-06T05:00:04.846789",
   "version": "2.6.0"
  }
 },
 "nbformat": 4,
 "nbformat_minor": 5
}
